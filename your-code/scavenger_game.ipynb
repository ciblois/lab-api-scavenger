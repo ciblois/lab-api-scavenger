{
 "metadata": {
  "language_info": {
   "codemirror_mode": {
    "name": "ipython",
    "version": 3
   },
   "file_extension": ".py",
   "mimetype": "text/x-python",
   "name": "python",
   "nbconvert_exporter": "python",
   "pygments_lexer": "ipython3",
   "version": "3.8.5-final"
  },
  "orig_nbformat": 2,
  "kernelspec": {
   "name": "Python 3.8.5 64-bit",
   "display_name": "Python 3.8.5 64-bit",
   "metadata": {
    "interpreter": {
     "hash": "2db524e06e9f5f4ffedc911c917cb75e12dbc923643829bf417064a77eb14d37"
    }
   }
  }
 },
 "nbformat": 4,
 "nbformat_minor": 2,
 "cells": [
  {
   "cell_type": "code",
   "execution_count": 14,
   "metadata": {},
   "outputs": [],
   "source": [
    "import requests\n",
    "import json\n",
    "import pandas as pd\n",
    "from requests.auth import HTTPBasicAuth #send an autentication token\n",
    "from getpass import getpass"
   ]
  },
  {
   "cell_type": "code",
   "execution_count": 13,
   "metadata": {},
   "outputs": [
    {
     "output_type": "stream",
     "name": "stdout",
     "text": [
      "200\n"
     ]
    },
    {
     "output_type": "execute_result",
     "data": {
      "text/plain": [
       "                                                      0\n",
       "0     b'[{\"id\":256372933,\"node_id\":\"MDEwOlJlcG9zaXRv...\n",
       "1     b'ework\",\"private\":false,\"owner\":{\"login\":\"cib...\n",
       "2     b'githubusercontent.com/u/31311046?v=4\",\"grava...\n",
       "3     b'om/ciblois\",\"followers_url\":\"https://api.git...\n",
       "4     b'is/following{/other_user}\",\"gists_url\":\"http...\n",
       "...                                                 ...\n",
       "1216  b':ciblois/super-duper-robot.git\",\"clone_url\":...\n",
       "1217  b'lois/super-duper-robot\",\"homepage\":null,\"siz...\n",
       "1218  b'projects\":true,\"has_downloads\":true,\"has_wik...\n",
       "1219  b'ed\":false,\"open_issues_count\":0,\"license\":nu...\n",
       "1220          b'admin\":true,\"push\":true,\"pull\":true}}]'\n",
       "\n",
       "[1221 rows x 1 columns]"
      ],
      "text/html": "<div>\n<style scoped>\n    .dataframe tbody tr th:only-of-type {\n        vertical-align: middle;\n    }\n\n    .dataframe tbody tr th {\n        vertical-align: top;\n    }\n\n    .dataframe thead th {\n        text-align: right;\n    }\n</style>\n<table border=\"1\" class=\"dataframe\">\n  <thead>\n    <tr style=\"text-align: right;\">\n      <th></th>\n      <th>0</th>\n    </tr>\n  </thead>\n  <tbody>\n    <tr>\n      <th>0</th>\n      <td>b'[{\"id\":256372933,\"node_id\":\"MDEwOlJlcG9zaXRv...</td>\n    </tr>\n    <tr>\n      <th>1</th>\n      <td>b'ework\",\"private\":false,\"owner\":{\"login\":\"cib...</td>\n    </tr>\n    <tr>\n      <th>2</th>\n      <td>b'githubusercontent.com/u/31311046?v=4\",\"grava...</td>\n    </tr>\n    <tr>\n      <th>3</th>\n      <td>b'om/ciblois\",\"followers_url\":\"https://api.git...</td>\n    </tr>\n    <tr>\n      <th>4</th>\n      <td>b'is/following{/other_user}\",\"gists_url\":\"http...</td>\n    </tr>\n    <tr>\n      <th>...</th>\n      <td>...</td>\n    </tr>\n    <tr>\n      <th>1216</th>\n      <td>b':ciblois/super-duper-robot.git\",\"clone_url\":...</td>\n    </tr>\n    <tr>\n      <th>1217</th>\n      <td>b'lois/super-duper-robot\",\"homepage\":null,\"siz...</td>\n    </tr>\n    <tr>\n      <th>1218</th>\n      <td>b'projects\":true,\"has_downloads\":true,\"has_wik...</td>\n    </tr>\n    <tr>\n      <th>1219</th>\n      <td>b'ed\":false,\"open_issues_count\":0,\"license\":nu...</td>\n    </tr>\n    <tr>\n      <th>1220</th>\n      <td>b'admin\":true,\"push\":true,\"pull\":true}}]'</td>\n    </tr>\n  </tbody>\n</table>\n<p>1221 rows × 1 columns</p>\n</div>"
     },
     "metadata": {},
     "execution_count": 13
    }
   ],
   "source": [
    "url = \"https://api.github.com/user/repos\"\n",
    "\n",
    "resp = requests.get(url,auth = HTTPBasicAuth('ciblois', getpass()))\n",
    "print(resp.status_code)\n",
    "\n",
    "git_data = pd.DataFrame(resp)\n",
    "git_data"
   ]
  },
  {
   "cell_type": "code",
   "execution_count": 27,
   "metadata": {
    "tags": []
   },
   "outputs": [
    {
     "output_type": "execute_result",
     "data": {
      "text/plain": [
       "['Jupyter Notebook']"
      ]
     },
     "metadata": {},
     "execution_count": 27
    }
   ],
   "source": [
    "git_data = pd.read_json('fork.json',orient='columns')\n",
    "#flattened_data = json_normalize(git_data)\n",
    "#print('git_data: ',git_data.columns)\n",
    "git_dataT = git_data.T\n",
    "#print('git_dataT: ',git_dataT.columns)\n",
    "language = git_data['language'].unique()\n",
    "list(language)"
   ]
  },
  {
   "cell_type": "code",
   "execution_count": 38,
   "metadata": {},
   "outputs": [
    {
     "output_type": "execute_result",
     "data": {
      "text/plain": [
       "21"
      ]
     },
     "metadata": {},
     "execution_count": 38
    }
   ],
   "source": [
    "ta_data = pd.read_json('tadata.json',orient='columns')\n",
    "ta_data.columns\n",
    "ta_data['git_commits_url'].count()\n",
    "#ta_data.groupby('updated_at').agg({'git_commits_url':'count'})"
   ]
  },
  {
   "cell_type": "code",
   "execution_count": null,
   "metadata": {},
   "outputs": [],
   "source": []
  }
 ]
}